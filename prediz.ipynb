{
 "cells": [
  {
   "cell_type": "markdown",
   "id": "34eff3c1",
   "metadata": {},
   "source": [
    "## Bibliotecas"
   ]
  },
  {
   "cell_type": "code",
   "execution_count": 2,
   "id": "c1bfcabb",
   "metadata": {},
   "outputs": [],
   "source": [
    "import pandas as pd\n",
    "from sklearn.model_selection import train_test_split\n",
    "from sklearn.ensemble import RandomForestClassifier\n",
    "from sklearn.tree import DecisionTreeClassifier \n",
    "from sklearn.metrics import accuracy_score\n",
    "from sklearn.preprocessing import OneHotEncoder\n",
    "from datetime import datetime, timedelta\n",
    "from sklearn.svm import SVC  \n",
    "from sklearn.neighbors import KNeighborsClassifier"
   ]
  },
  {
   "cell_type": "markdown",
   "id": "1667306a",
   "metadata": {},
   "source": [
    "# Coleta de Dados"
   ]
  },
  {
   "cell_type": "code",
   "execution_count": 4,
   "id": "f71e7504",
   "metadata": {},
   "outputs": [],
   "source": [
    "df = pd.read_excel(\"base_completa_sem_filtro.xlsx\", sheet_name=\"completo\")"
   ]
  },
  {
   "cell_type": "markdown",
   "id": "8761a182",
   "metadata": {},
   "source": [
    "# Pré-processamento de Dados"
   ]
  },
  {
   "cell_type": "markdown",
   "id": "ee9dda0e",
   "metadata": {},
   "source": [
    "Limpeza de Dados"
   ]
  },
  {
   "cell_type": "markdown",
   "id": "2493cde3",
   "metadata": {},
   "source": [
    "Transformação de Dados"
   ]
  },
  {
   "cell_type": "markdown",
   "id": "9e990515",
   "metadata": {},
   "source": [
    "Engenharia de Recursos"
   ]
  },
  {
   "cell_type": "markdown",
   "id": "7036eb5c",
   "metadata": {},
   "source": [
    "# Divisão de Dados"
   ]
  },
  {
   "cell_type": "markdown",
   "id": "83ae6060",
   "metadata": {},
   "source": [
    "# Seleção de Algoritmo"
   ]
  },
  {
   "cell_type": "markdown",
   "id": "56e30d01",
   "metadata": {},
   "source": [
    "# Treinamento do Modelo"
   ]
  },
  {
   "cell_type": "markdown",
   "id": "3d4333a7",
   "metadata": {},
   "source": [
    "# Validação e Ajuste de Hiperparâmetros"
   ]
  },
  {
   "cell_type": "markdown",
   "id": "8bd70aa3",
   "metadata": {},
   "source": [
    "# Avaliação do Modelo"
   ]
  },
  {
   "cell_type": "markdown",
   "id": "8ba98891",
   "metadata": {},
   "source": [
    "# Interpretação do Modelo"
   ]
  },
  {
   "cell_type": "markdown",
   "id": "f69c9287",
   "metadata": {},
   "source": [
    "# Implantação do Modelo"
   ]
  },
  {
   "cell_type": "markdown",
   "id": "9bab9d88",
   "metadata": {},
   "source": [
    "# Monitoramento e Manutenção"
   ]
  },
  {
   "cell_type": "markdown",
   "id": "d199cd8f",
   "metadata": {},
   "source": [
    "# Documentação"
   ]
  },
  {
   "cell_type": "markdown",
   "id": "f46a74aa",
   "metadata": {},
   "source": [
    "# Treinamento e Reciclagem"
   ]
  }
 ],
 "metadata": {
  "kernelspec": {
   "display_name": "Python 3 (ipykernel)",
   "language": "python",
   "name": "python3"
  },
  "language_info": {
   "codemirror_mode": {
    "name": "ipython",
    "version": 3
   },
   "file_extension": ".py",
   "mimetype": "text/x-python",
   "name": "python",
   "nbconvert_exporter": "python",
   "pygments_lexer": "ipython3",
   "version": "3.10.10"
  }
 },
 "nbformat": 4,
 "nbformat_minor": 5
}
